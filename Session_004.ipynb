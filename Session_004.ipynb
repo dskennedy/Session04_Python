{
 "cells": [
  {
   "cell_type": "code",
   "execution_count": 2,
   "metadata": {},
   "outputs": [
    {
     "name": "stdout",
     "output_type": "stream",
     "text": [
      "Enter value for base : 10\n",
      "Enter value for left side : 12\n",
      "Enter value for right side : 13\n",
      "Area of given tringle is 56.995\n"
     ]
    }
   ],
   "source": [
    "\"\"\"\n",
    "Calculating area of triangle\n",
    "\"\"\"\n",
    "class Triangle:\n",
    "    \n",
    "    def __init__(self,base, left,right):\n",
    "        self.base=base\n",
    "        self.left=left\n",
    "        self.right=right\n",
    "    \n",
    "    def Calculate_area(self):\n",
    "        base=self.base\n",
    "        ls=self.left\n",
    "        rs=self.right\n",
    "        s=(base+ls+rs)/2\n",
    "        area_triangle=round((s*(s-base)*(s-ls)*(s-rs))**0.5,3)\n",
    "        return area_triangle\n",
    "\n",
    "    \n",
    "class Area_cal():\n",
    "    \n",
    "    base=int(input(\"Enter value for base : \"))\n",
    "    ls=int(input(\"Enter value for left side : \"))\n",
    "    rs=int(input(\"Enter value for right side : \"))\n",
    "    inst_triangle=Triangle(base,ls,rs)\n",
    "    area_triangle=inst_triangle.Calculate_area()\n",
    "    print(\"Area of given tringle is \" +str(area_triangle))"
   ]
  },
  {
   "cell_type": "code",
   "execution_count": 5,
   "metadata": {},
   "outputs": [
    {
     "name": "stdout",
     "output_type": "stream",
     "text": [
      "Filtered list ['Anaconda3', 'packages', 'spyder_kernels', 'customize', 'spydercustomize']\n"
     ]
    }
   ],
   "source": [
    "\"\"\"\n",
    "Filter\n",
    "\"\"\"\n",
    "class Filters:\n",
    "\n",
    "    def Large_word(self,word_list,leng):\n",
    "        target_list=[]\n",
    "        for a in word_list:\n",
    "            if len(a)>leng:\n",
    "                target_list.append(a)\n",
    "        return target_list \n",
    "   \n",
    "class Main_class():\n",
    "    \n",
    "    words=[\"Users\",\"Anaconda3\",\"lib\",\"site\",\"packages\",\"spyder_kernels\",\"customize\",\"spydercustomize\"]\n",
    "    filter=Filters()\n",
    "    final_list=filter.Large_word(words,5)\n",
    "    print(\"Filtered list \" +str(final_list))"
   ]
  },
  {
   "cell_type": "code",
   "execution_count": 6,
   "metadata": {},
   "outputs": [
    {
     "name": "stdout",
     "output_type": "stream",
     "text": [
      "[5, 9, 3, 4, 8, 14, 9, 15]\n"
     ]
    }
   ],
   "source": [
    "\"\"\"\n",
    "Map function\n",
    "\"\"\"\n",
    "def wrd_length(word):\n",
    "    return len(word)\n",
    "\n",
    "raw_list=(\"Users\",\"Anaconda3\",\"lib\",\"site\",\"packages\",\"spyder_kernels\",\"customize\",\"spydercustomize\")\n",
    "list_out=map(wrd_length,raw_list)\n",
    "print(list(list_out))"
   ]
  },
  {
   "cell_type": "code",
   "execution_count": 9,
   "metadata": {},
   "outputs": [
    {
     "name": "stdout",
     "output_type": "stream",
     "text": [
      "Enter a character : E\n",
      "Is this character vowal? True\n"
     ]
    }
   ],
   "source": [
    "\"\"\"\n",
    "function to check a character\n",
    "\"\"\"\n",
    "def check_char(word):\n",
    "    result=False\n",
    "    for vow in ('a','e','i','o','u'):\n",
    "        if str(vow).upper()==str(word).upper():\n",
    "            result=True\n",
    "    return result\n",
    "\n",
    "\n",
    "input_wrd=input(\"Enter a character : \")\n",
    "char_type=check_char(input_wrd)\n",
    "print(\"Is this character vowal? \" + str(char_type))"
   ]
  }
 ],
 "metadata": {
  "kernelspec": {
   "display_name": "Python 3",
   "language": "python",
   "name": "python3"
  },
  "language_info": {
   "codemirror_mode": {
    "name": "ipython",
    "version": 3
   },
   "file_extension": ".py",
   "mimetype": "text/x-python",
   "name": "python",
   "nbconvert_exporter": "python",
   "pygments_lexer": "ipython3",
   "version": "3.7.0"
  }
 },
 "nbformat": 4,
 "nbformat_minor": 2
}
